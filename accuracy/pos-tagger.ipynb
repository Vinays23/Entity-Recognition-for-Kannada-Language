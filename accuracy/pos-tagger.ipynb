{
 "cells": [
  {
   "cell_type": "markdown",
   "metadata": {},
   "source": [
    "\n",
    "\n",
    "We will now train and tag the words using the features extracted from Word2Vec in the previous step."
   ]
  },
  {
   "cell_type": "code",
   "execution_count": 1,
   "metadata": {},
   "outputs": [],
   "source": [
    "#Linear Chain CRF\n",
    "import numpy as np\n",
    "import pandas as pd\n",
    "import tensorflow as tf\n",
    "import matplotlib.pyplot as plt"
   ]
  },
  {
   "cell_type": "code",
   "execution_count": 2,
   "metadata": {},
   "outputs": [],
   "source": [
    "#Loading the word features and labels\n",
    "X = np.load(\"kannada-features.numpy\").astype(np.float32)\n",
    "Y = np.load(\"kannada-labels.numpy\").astype(np.int32)\n",
    "\n",
    "np.random.seed(546)\n",
    "indices = np.arange(X.shape[0])\n",
    "np.random.shuffle(indices)\n",
    "\n",
    "X = X[indices]\n",
    "Y = Y[indices]"
   ]
  },
  {
   "cell_type": "code",
   "execution_count": 3,
   "metadata": {},
   "outputs": [],
   "source": [
    "#Sequence Length\n",
    "num_examples, num_words, num_features = X.shape\n",
    "num_tags = np.unique(Y).size\n",
    "\n",
    "sequence_lengths = np.full(num_examples, 0, dtype=np.int32)\n",
    "for idx, row in enumerate(X):\n",
    "    count = 0\n",
    "    for word in row:\n",
    "        if np.all(word == -1):\n",
    "            break\n",
    "        count += 1\n",
    "    sequence_lengths[idx] = count"
   ]
  },
  {
   "cell_type": "code",
   "execution_count": 4,
   "metadata": {},
   "outputs": [],
   "source": [
    "#Splitting the data into Training and Test sets\n",
    "split = 100\n",
    "x_test = X[-split:,:,:]\n",
    "y_test = Y[-split:,:]\n",
    "s_test = sequence_lengths[-split:]\n",
    "\n",
    "x = X[0:-split,:,:]\n",
    "y = Y[0:-split,:]\n",
    "sequence_lengths = sequence_lengths[0:-split]"
   ]
  },
  {
   "cell_type": "code",
   "execution_count": 5,
   "metadata": {},
   "outputs": [
    {
     "name": "stdout",
     "output_type": "stream",
     "text": [
      "Classification Accuracy (Training set): 3.758770464416973\n",
      "Classification Accuracy (Training set): 80.22051453391246\n",
      "Classification Accuracy (Training set): 83.66187771466755\n",
      "Classification Accuracy (Training set): 85.06515202138323\n",
      "Classification Accuracy (Training set): 85.91713999331775\n",
      "Classification Accuracy (Training set): 86.83595055128633\n",
      "Classification Accuracy (Training set): 87.42064817908454\n",
      "Classification Accuracy (Training set): 87.85499498830605\n",
      "Classification Accuracy (Training set): 88.13899097895089\n",
      "Classification Accuracy (Training set): 88.52322084864684\n",
      "Classification Accuracy (Training set): 88.85733377881724\n",
      "Classification Accuracy (Training set): 89.1580354159706\n",
      "Classification Accuracy (Training set): 89.54226528566656\n",
      "Classification Accuracy (Training set): 89.85967256932844\n",
      "Classification Accuracy (Training set): 90.07684597393919\n",
      "Classification Accuracy (Training set): 90.26060808553291\n",
      "Classification Accuracy (Test set): 80.95238095238095\n"
     ]
    }
   ],
   "source": [
    "#Training on Linear Chain CRF\n",
    "with tf.Graph().as_default():\n",
    "    with tf.Session() as session:\n",
    "        x_t = tf.constant(x)\n",
    "        xt_t = tf.constant(x_test)\n",
    "        y_t = tf.constant(y)\n",
    "        yt_t = tf.constant(y_test)\n",
    "        sequence_lengths_t = tf.constant(sequence_lengths)\n",
    "        st_t = tf.constant(s_test)\n",
    "        \n",
    "        weights = tf.get_variable(\"weights\", [num_features, num_tags])\n",
    "        matricized_x_t = tf.reshape(x_t, [-1, num_features])\n",
    "        matricized_unary_scores = tf.matmul(matricized_x_t, weights)\n",
    "        unary_scores = tf.reshape(matricized_unary_scores, [num_examples-split, num_words, num_tags])\n",
    "        \n",
    "        matricized_xt_t = tf.reshape(xt_t, [-1, num_features])\n",
    "        matricized_ust = tf.matmul(matricized_xt_t, weights)\n",
    "        ust = tf.reshape(matricized_ust, [split, num_words, num_tags])\n",
    "        \n",
    "        log_likelihood, transition_params = tf.contrib.crf.crf_log_likelihood(unary_scores, y_t, sequence_lengths_t)\n",
    "        \n",
    "        loss = tf.reduce_mean(-log_likelihood)\n",
    "        train_op = tf.train.GradientDescentOptimizer(0.03).minimize(loss)\n",
    "        \n",
    "        session.run(tf.global_variables_initializer())\n",
    "        for i in range(400):\n",
    "            tf_ust, tf_unary_scores, tf_transition_params, _ = session.run([ust, unary_scores, transition_params, train_op])\n",
    "            if i%25== 0:\n",
    "                correct_labels = 0\n",
    "                total_labels = 0\n",
    "                for tf_unary_scores_, y_, sequence_length_ in zip(tf_unary_scores, y, sequence_lengths):\n",
    "                    tf_unary_scores_ = tf_unary_scores_[:sequence_length_]\n",
    "                    y_ = y_[:sequence_length_]\n",
    "                    \n",
    "                    viterbi_sequence, _ = tf.contrib.crf.viterbi_decode(tf_unary_scores_, tf_transition_params)\n",
    "                    \n",
    "                    correct_labels += np.sum(np.equal(viterbi_sequence, y_))\n",
    "                    total_labels += sequence_length_\n",
    "                    #print(total_labels)\n",
    "                accuracy = 100.0 * correct_labels / float(total_labels)\n",
    "                print(f\"Classification Accuracy (Training set): {accuracy}\")\n",
    "       \n",
    "        \n",
    "            correct_labels = 0\n",
    "            total_labels = 0\n",
    "            pred_labels = []\n",
    "            actual_labels = []\n",
    "            for a, b, c in zip(tf_ust, y_test, s_test):\n",
    "                a = a[:c]\n",
    "                b = b[:c]\n",
    "            \n",
    "                vs, _ = tf.contrib.crf.viterbi_decode(a, tf_transition_params)\n",
    "                correct_labels += np.sum(np.equal(vs, b))\n",
    "                total_labels += c\n",
    "            \n",
    "                actual_labels = actual_labels + b.tolist()\n",
    "                pred_labels = pred_labels + vs\n",
    "            \n",
    "                accuracy = 100.0 * correct_labels / float(total_labels)\n",
    "                #print \"-------------------------------------------------\"\n",
    "        print(f\"Classification Accuracy (Test set): {accuracy}\")"
   ]
  },
  {
   "cell_type": "code",
   "execution_count": 6,
   "metadata": {},
   "outputs": [
    {
     "name": "stdout",
     "output_type": "stream",
     "text": [
      "              precision    recall  f1-score   support\n",
      "\n",
      "          CC       1.00      1.00      1.00        14\n",
      "         DEM       1.00      0.91      0.95        11\n",
      "          JJ       0.71      0.49      0.58        51\n",
      "         NEG       0.00      0.00      0.00         1\n",
      "          NN       0.82      0.94      0.88       420\n",
      "         NST       0.57      0.27      0.36        15\n",
      "         PRP       0.93      0.62      0.74        21\n",
      "         NUM       0.97      0.74      0.84        46\n",
      "          QF       0.50      0.14      0.22         7\n",
      "          RB       0.25      0.12      0.17         8\n",
      "          RP       0.62      0.71      0.67         7\n",
      "         SYM       0.50      0.50      0.50         2\n",
      "          VM       0.69      0.60      0.64        67\n",
      "          WQ       0.00      0.00      0.00         2\n",
      "\n",
      "   micro avg       0.81      0.81      0.81       672\n",
      "   macro avg       0.61      0.50      0.54       672\n",
      "weighted avg       0.80      0.81      0.79       672\n",
      "\n"
     ]
    },
    {
     "name": "stderr",
     "output_type": "stream",
     "text": [
      "C:\\ProgramData\\Anaconda3\\lib\\site-packages\\sklearn\\metrics\\classification.py:1143: UndefinedMetricWarning: Precision and F-score are ill-defined and being set to 0.0 in labels with no predicted samples.\n",
      "  'precision', 'predicted', average, warn_for)\n"
     ]
    }
   ],
   "source": [
    "#Model Evaluation - Classification Report\n",
    "from sklearn.metrics import classification_report\n",
    "\n",
    "target_names = np.array(['CC', 'DEM', 'IRR', 'JJ', 'NEG', 'NN', 'NST', 'PRP', 'NUM', 'QF',\n",
    "       'RB', 'RP', 'SYM', 'VM', 'WQ'])\n",
    "\n",
    "\n",
    "print(classification_report (actual_labels, pred_labels, target_names=target_names[np.unique(actual_labels)].tolist()))\n",
    "\n"
   ]
  },
  {
   "cell_type": "code",
   "execution_count": 7,
   "metadata": {},
   "outputs": [],
   "source": [
    "import itertools\n",
    "\n",
    "\n",
    "def plot_classification_report(classificationReport,\n",
    "                               title='Classification report',\n",
    "                               cmap='RdBu'):\n",
    "\n",
    "    classificationReport = classificationReport.replace('\\n\\n', '\\n')\n",
    "    classificationReport = classificationReport.replace(' / ', '/')\n",
    "    lines = classificationReport.split('\\n')\n",
    "\n",
    "    classes, plotMat, support, class_names = [], [], [], []\n",
    "    for line in lines[1:]:  # if you don't want avg/total result, then change [1:] into [1:-1]\n",
    "        t = line.strip().split()\n",
    "        if len(t) < 2:\n",
    "            continue\n",
    "        classes.append(t[0])\n",
    "        v = [float(x) for x in t[1: len(t) - 1]]\n",
    "        support.append(int(t[-1]))\n",
    "        class_names.append(t[0])\n",
    "        plotMat.append(v)\n",
    "\n",
    "    plotMat = np.array(plotMat)\n",
    "    xticklabels = ['Precision', 'Recall', 'F1-score']\n",
    "    yticklabels = ['{0} ({1})'.format(class_names[idx], sup)\n",
    "                   for idx, sup in enumerate(support)]\n",
    "\n",
    "    plt.imshow(plotMat, interpolation='nearest', cmap=cmap, aspect='auto')\n",
    "    plt.title(title)\n",
    "    plt.colorbar()\n",
    "    plt.xticks(np.arange(3), xticklabels, rotation=0)\n",
    "    plt.yticks(np.arange(len(classes)), yticklabels)\n",
    "\n",
    "    upper_thresh = plotMat.min() + (plotMat.max() - plotMat.min()) / 10 * 12\n",
    "    lower_thresh = plotMat.min() + (plotMat.max() - plotMat.min()) / 10 * 12\n",
    "    for i, j in itertools.product(range(plotMat.shape[0]), range(plotMat.shape[1])):\n",
    "        plt.text(j, i, format(plotMat[i, j], '.2f'),\n",
    "                 horizontalalignment=\"center\",\n",
    "                 color=\"white\")\n",
    "\n",
    "    plt.ylabel('Features')\n",
    "    plt.xlabel('Classes')\n",
    "    plt.tight_layout()\n",
    "    plt.savefig('test_plot_classif_report.png', dpi=200, format='png', bbox_inches='tight')"
   ]
  },
  {
   "cell_type": "code",
   "execution_count": 8,
   "metadata": {
    "scrolled": true
   },
   "outputs": [
    {
     "data": {
      "image/png": "[encoded data removed]",
      "text/plain": [
       "<Figure size 432x288 with 2 Axes>"
      ]
     },
     "metadata": {
      "needs_background": "light"
     },
     "output_type": "display_data"
    }
   ],
   "source": [
    "\n",
    "def main():\n",
    "\n",
    "    sampleClassificationReport = \"\"\"                         precision    recall  f1-score   support\n",
    "\n",
    "          CC       1.00      1.00      1.00        14\n",
    "         DEM       1.00      0.91      0.95        11\n",
    "          JJ       0.71      0.49      0.58        51\n",
    "         NEG       0.00      0.00      0.00         1\n",
    "          NN       0.82      0.94      0.88       420\n",
    "         NST       0.57      0.27      0.36        15\n",
    "         PRP       0.93      0.62      0.74        21\n",
    "         NUM       0.97      0.74      0.84        46\n",
    "          QF       0.50      0.14      0.22         7\n",
    "          RB       0.25      0.12      0.17         8\n",
    "          RP       0.62      0.71      0.67         7\n",
    "         SYM       0.50      0.50      0.50         2\n",
    "          VM       0.69      0.60      0.64        67\n",
    "          WQ       0.00      0.00      0.00         2\"\"\"\n",
    "\n",
    "    plot_classification_report(sampleClassificationReport)\n",
    "    plt.show()\n",
    "    plt.close()\n",
    "  \n",
    "\n",
    "\n",
    "if __name__ == '__main__':\n",
    "    main()"
   ]
  },
  {
   "cell_type": "code",
   "execution_count": null,
   "metadata": {},
   "outputs": [],
   "source": []
  }
 ],
 "metadata": {
  "kernelspec": {
   "display_name": "Python 3",
   "language": "python",
   "name": "python3"
  },
  "language_info": {
   "codemirror_mode": {
    "name": "ipython",
    "version": 3
   },
   "file_extension": ".py",
   "mimetype": "text/x-python",
   "name": "python",
   "nbconvert_exporter": "python",
   "pygments_lexer": "ipython3",
   "version": "3.6.8"
  }
 },
 "nbformat": 4,
 "nbformat_minor": 2
}
