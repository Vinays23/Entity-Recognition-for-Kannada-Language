{
 "cells": [
  {
   "cell_type": "code",
   "execution_count": 11,
   "metadata": {},
   "outputs": [],
   "source": [
    "import codecs\n",
    "import pickle\n",
    "import numpy as np\n",
    "import pandas as pd"
   ]
  },
  {
   "cell_type": "code",
   "execution_count": 12,
   "metadata": {},
   "outputs": [],
   "source": [
    "#Reading the corpus\n",
    "\n",
    "f = codecs.open(\"./output/kannada_tags.txt\", \"r\", encoding=\"utf8\")\n",
    "\n",
    "raw = f.readlines()\n",
    "#print(raw)\n",
    "\n",
    "f.close()"
   ]
  },
  {
   "cell_type": "code",
   "execution_count": 13,
   "metadata": {},
   "outputs": [],
   "source": [
    "#Splitting the words into kannada format\n",
    "\n",
    "lines = []\n",
    "l = []\n",
    "\n",
    "for w in raw:\n",
    "    w = w.encode('utf-8')\n",
    "    x = w.strip(b'\\n').split(b' ')\n",
    "    if x[0] == b'*' or x[0] == b'.' or len(x) < 2:\n",
    "        if len(l) > 0:\n",
    "            lines.append(l)\n",
    "        l = []\n",
    "        continue\n",
    "    l.append((x[0], x[1]))"
   ]
  },
  {
   "cell_type": "code",
   "execution_count": 14,
   "metadata": {},
   "outputs": [
    {
     "name": "stderr",
     "output_type": "stream",
     "text": [
      "IOPub data rate exceeded.\n",
      "The notebook server will temporarily stop sending output\n",
      "to the client in order to avoid crashing it.\n",
      "To change this limit, set the config variable\n",
      "`--NotebookApp.iopub_data_rate_limit`.\n",
      "\n",
      "Current values:\n",
      "NotebookApp.iopub_data_rate_limit=1000000.0 (bytes/sec)\n",
      "NotebookApp.rate_limit_window=3.0 (secs)\n",
      "\n"
     ]
    }
   ],
   "source": [
    "sentences = []\n",
    "labels = []\n",
    "num_words = 0\n",
    "\n",
    "for l in lines:\n",
    "    s = []\n",
    "    lab = []\n",
    "    for w in l:\n",
    "        x = w[0].decode('utf-8')\n",
    "        y = w[1].decode('utf-8')\n",
    "        s.append(x)\n",
    "        num_words += 1\n",
    "        #print(num_words)\n",
    "        lab.append(y)\n",
    "    labels.append(lab)\n",
    "    sentences.append(s)\n",
    "    print(sentences)"
   ]
  },
  {
   "cell_type": "code",
   "execution_count": 15,
   "metadata": {},
   "outputs": [],
   "source": [
    "from gensim.models import Word2Vec"
   ]
  },
  {
   "cell_type": "code",
   "execution_count": 16,
   "metadata": {},
   "outputs": [
    {
     "name": "stdout",
     "output_type": "stream",
     "text": [
      "Word2Vec(vocab=0, size=100, alpha=0.025)\n"
     ]
    }
   ],
   "source": [
    "min_count = 1\n",
    "size = 100\n",
    "window = 20\n",
    "\n",
    "model = Word2Vec(window=window, min_count=min_count, size=size)\n",
    "print(model)\n",
    "model.build_vocab(sentences)"
   ]
  },
  {
   "cell_type": "code",
   "execution_count": 17,
   "metadata": {},
   "outputs": [
    {
     "name": "stdout",
     "output_type": "stream",
     "text": [
      "Iteration  0\n",
      "Iteration  100\n",
      "Iteration  200\n",
      "Iteration  300\n",
      "Iteration  400\n",
      "Iteration  500\n",
      "Iteration  600\n",
      "Iteration  700\n",
      "Iteration  800\n",
      "Iteration  900\n"
     ]
    }
   ],
   "source": [
    "#Train the model on the sentences\n",
    "for i in range(1000):\n",
    "    model.train(sentences, total_words=num_words, epochs=1)\n",
    "    if i%100 == 0:\n",
    "        print(\"Iteration \",i)"
   ]
  },
  {
   "cell_type": "code",
   "execution_count": 18,
   "metadata": {},
   "outputs": [
    {
     "name": "stderr",
     "output_type": "stream",
     "text": [
      "C:\\ProgramData\\Anaconda3\\lib\\site-packages\\ipykernel_launcher.py:7: DeprecationWarning: Call to deprecated `__contains__` (Method will be removed in 4.0.0, use self.wv.__contains__() instead).\n",
      "  import sys\n",
      "C:\\ProgramData\\Anaconda3\\lib\\site-packages\\ipykernel_launcher.py:8: DeprecationWarning: Call to deprecated `__getitem__` (Method will be removed in 4.0.0, use self.wv.__getitem__() instead).\n",
      "  \n",
      "C:\\ProgramData\\Anaconda3\\lib\\site-packages\\ipykernel_launcher.py:12: DeprecationWarning: Call to deprecated `__getitem__` (Method will be removed in 4.0.0, use self.wv.__getitem__() instead).\n",
      "  if sys.path[0] == '':\n",
      "C:\\ProgramData\\Anaconda3\\lib\\site-packages\\ipykernel_launcher.py:17: DeprecationWarning: Call to deprecated `__getitem__` (Method will be removed in 4.0.0, use self.wv.__getitem__() instead).\n",
      "C:\\ProgramData\\Anaconda3\\lib\\site-packages\\ipykernel_launcher.py:22: DeprecationWarning: Call to deprecated `__getitem__` (Method will be removed in 4.0.0, use self.wv.__getitem__() instead).\n",
      "C:\\ProgramData\\Anaconda3\\lib\\site-packages\\ipykernel_launcher.py:25: DeprecationWarning: Call to deprecated `__getitem__` (Method will be removed in 4.0.0, use self.wv.__getitem__() instead).\n",
      "C:\\ProgramData\\Anaconda3\\lib\\site-packages\\ipykernel_launcher.py:30: DeprecationWarning: Call to deprecated `__getitem__` (Method will be removed in 4.0.0, use self.wv.__getitem__() instead).\n",
      "C:\\ProgramData\\Anaconda3\\lib\\site-packages\\ipykernel_launcher.py:35: DeprecationWarning: Call to deprecated `__getitem__` (Method will be removed in 4.0.0, use self.wv.__getitem__() instead).\n",
      "C:\\ProgramData\\Anaconda3\\lib\\site-packages\\ipykernel_launcher.py:10: DeprecationWarning: Call to deprecated `__getitem__` (Method will be removed in 4.0.0, use self.wv.__getitem__() instead).\n",
      "  # Remove the CWD from sys.path while we load stuff.\n",
      "C:\\ProgramData\\Anaconda3\\lib\\site-packages\\ipykernel_launcher.py:15: DeprecationWarning: Call to deprecated `__getitem__` (Method will be removed in 4.0.0, use self.wv.__getitem__() instead).\n",
      "  from ipykernel import kernelapp as app\n",
      "C:\\ProgramData\\Anaconda3\\lib\\site-packages\\ipykernel_launcher.py:20: DeprecationWarning: Call to deprecated `__getitem__` (Method will be removed in 4.0.0, use self.wv.__getitem__() instead).\n",
      "C:\\ProgramData\\Anaconda3\\lib\\site-packages\\ipykernel_launcher.py:37: DeprecationWarning: Call to deprecated `__getitem__` (Method will be removed in 4.0.0, use self.wv.__getitem__() instead).\n",
      "C:\\ProgramData\\Anaconda3\\lib\\site-packages\\ipykernel_launcher.py:32: DeprecationWarning: Call to deprecated `__getitem__` (Method will be removed in 4.0.0, use self.wv.__getitem__() instead).\n",
      "C:\\ProgramData\\Anaconda3\\lib\\site-packages\\ipykernel_launcher.py:27: DeprecationWarning: Call to deprecated `__getitem__` (Method will be removed in 4.0.0, use self.wv.__getitem__() instead).\n",
      "C:\\ProgramData\\Anaconda3\\lib\\site-packages\\ipykernel_launcher.py:40: DeprecationWarning: Call to deprecated `__getitem__` (Method will be removed in 4.0.0, use self.wv.__getitem__() instead).\n"
     ]
    }
   ],
   "source": [
    "X = []\n",
    "y = []\n",
    "for idx,s in enumerate(sentences):\n",
    "    x = []\n",
    "    yy = []\n",
    "    for wi,w in enumerate(s):\n",
    "        if w in model:\n",
    "            m = model[w]\n",
    "            if wi > 1:\n",
    "                m = np.hstack([m,model[s[wi-1]]])\n",
    "            else:\n",
    "                m = np.hstack([m,np.zeros_like(model[w])])\n",
    "            \n",
    "            if wi > 2:\n",
    "                m = np.hstack([m,model[s[wi-2]]])\n",
    "            else:\n",
    "                m = np.hstack([m,np.zeros_like(model[w])])\n",
    "            \n",
    "            if wi > 3:\n",
    "                m = np.hstack([m,model[s[wi-3]]])\n",
    "            else:\n",
    "                m = np.hstack([m,np.zeros_like(model[w])])\n",
    "            \n",
    "            if wi < len(s)-1:\n",
    "                m = np.hstack([m,model[s[wi+1]]])\n",
    "            else:\n",
    "                m = np.hstack([m,np.zeros_like(model[w])])\n",
    "            \n",
    "            if wi < len(s)-2:\n",
    "                m = np.hstack([m,model[s[wi+2]]])\n",
    "            else:\n",
    "                m = np.hstack([m,np.zeros_like(model[w])])\n",
    "            \n",
    "            if wi < len(s)-3:\n",
    "                m = np.hstack([m,model[s[wi+3]]])\n",
    "            else:\n",
    "                m = np.hstack([m,np.zeros_like(model[w])])\n",
    "            x.append(m)\n",
    "    offset = 100 - len(x)\n",
    "    pad_x = np.zeros_like(model[w]) - 1\n",
    "    pad_x = np.hstack([pad_x,pad_x,pad_x,pad_x,pad_x, pad_x, pad_x])\n",
    "    yy = yy + labels[idx]\n",
    "    for i in range(offset):\n",
    "        x.append(pad_x)\n",
    "        yy.append(\"IRR\")\n",
    "        #print(idx,\" \",m)\n",
    "        #print(m)\n",
    "    X.append(x)\n",
    "    y.append(yy)"
   ]
  },
  {
   "cell_type": "code",
   "execution_count": 19,
   "metadata": {},
   "outputs": [
    {
     "data": {
      "text/plain": [
       "array(['CC', 'DEM', 'IRR', 'JJ', 'NEG', 'NN', 'NST', 'NUM', 'PRP', 'QF',\n",
       "       'RB', 'RP', 'SYM', 'VM', 'WQ'], dtype='<U3')"
      ]
     },
     "execution_count": 19,
     "metadata": {},
     "output_type": "execute_result"
    }
   ],
   "source": [
    "#Unique Tags\n",
    "#Encoding the target labels\n",
    "X = np.array(X)\n",
    "y = np.array(y)\n",
    "np.unique(y)"
   ]
  },
  {
   "cell_type": "code",
   "execution_count": 20,
   "metadata": {},
   "outputs": [
    {
     "data": {
      "text/plain": [
       "array([ 0,  1,  2,  3,  4,  5,  6,  7,  8,  9, 10, 11, 12, 13, 14],\n",
       "      dtype=int64)"
      ]
     },
     "execution_count": 20,
     "metadata": {},
     "output_type": "execute_result"
    }
   ],
   "source": [
    "original_shape = y.shape\n",
    "from sklearn.preprocessing import LabelEncoder\n",
    "le = LabelEncoder()\n",
    "y = le.fit_transform(y.ravel()).reshape(original_shape)\n",
    "np.unique(y)"
   ]
  },
  {
   "cell_type": "markdown",
   "metadata": {},
   "source": [
    "#### Saving the feature and label vectors"
   ]
  },
  {
   "cell_type": "code",
   "execution_count": 21,
   "metadata": {},
   "outputs": [],
   "source": [
    "f = open(\"kannada-features.numpy\", \"wb\")\n",
    "np.save(f, X)\n",
    "f.close()"
   ]
  },
  {
   "cell_type": "code",
   "execution_count": 22,
   "metadata": {},
   "outputs": [],
   "source": [
    "f = open(\"kannada-labels.numpy\", \"wb\")\n",
    "np.save(f,y)\n",
    "f.close()"
   ]
  },
  {
   "cell_type": "code",
   "execution_count": null,
   "metadata": {},
   "outputs": [],
   "source": []
  },
  {
   "cell_type": "code",
   "execution_count": null,
   "metadata": {},
   "outputs": [],
   "source": []
  },
  {
   "cell_type": "code",
   "execution_count": null,
   "metadata": {},
   "outputs": [],
   "source": []
  }
 ],
 "metadata": {
  "anaconda-cloud": {},
  "kernelspec": {
   "display_name": "Python 3",
   "language": "python",
   "name": "python3"
  },
  "language_info": {
   "codemirror_mode": {
    "name": "ipython",
    "version": 3
   },
   "file_extension": ".py",
   "mimetype": "text/x-python",
   "name": "python",
   "nbconvert_exporter": "python",
   "pygments_lexer": "ipython3",
   "version": "3.6.8"
  }
 },
 "nbformat": 4,
 "nbformat_minor": 1
}
